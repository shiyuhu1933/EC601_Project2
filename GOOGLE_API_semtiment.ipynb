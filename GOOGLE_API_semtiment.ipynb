{
  "nbformat": 4,
  "nbformat_minor": 0,
  "metadata": {
    "colab": {
      "provenance": [],
      "mount_file_id": "https://github.com/shiyuhu1933/EC601_Project2/blob/main/Twitter_API_semtiment.ipynb",
      "authorship_tag": "ABX9TyM3xbqRTMt7T/eobm2XH/gu",
      "include_colab_link": true
    },
    "kernelspec": {
      "name": "python3",
      "display_name": "Python 3"
    },
    "language_info": {
      "name": "python"
    }
  },
  "cells": [
    {
      "cell_type": "markdown",
      "metadata": {
        "id": "view-in-github",
        "colab_type": "text"
      },
      "source": [
        "<a href=\"https://colab.research.google.com/github/shiyuhu1933/EC601_Project2/blob/main/GOOGLE_API_semtiment.ipynb\" target=\"_parent\"><img src=\"https://colab.research.google.com/assets/colab-badge.svg\" alt=\"Open In Colab\"/></a>"
      ]
    },
    {
      "cell_type": "code",
      "source": [
        "\n",
        "import tweepy #https://github.com/tweepy/tweepy\n",
        "import json\n",
        "#consumer_key ='Your API key/consumer key'\n",
        "#consumer_secret = 'Your secret API key/ consumer key'\n",
        "#access_token = 'Your access token'\n",
        "#access_token_secret = 'Your secret access token'\n",
        "#Bearer_token ='Your bearer token'\n",
        "consumer_key = 'jSIaIOgiLNYjTZXtpnZhiO2wk'\n",
        "consumer_secret = '01LBXE6ojXv3vikLpu6w8KMiMYVn6zT25mZFu0WXoijONWuvJC'\n",
        "access_token = \"1576044567178186752-Dc3aW6fuQfr6mhi3tE2Yk5VQAVQKdG\"\n",
        "access_token_secret = \"wIVicLJz3cKtLoLocIqyYenoxKLPLWqhjBvJZbThkWRZx\"\n",
        "\n",
        "auth = tweepy.OAuthHandler(consumer_key, consumer_secret)\n",
        "auth.set_access_token(access_token, access_token_secret)\n",
        "api = tweepy.API(auth)\n",
        "\n",
        "\n",
        "## Author now\n"
      ],
      "metadata": {
        "id": "82XTF1gVnWjW"
      },
      "execution_count": 125,
      "outputs": []
    },
    {
      "cell_type": "code",
      "source": [
        "pip install tweepy"
      ],
      "metadata": {
        "id": "nY6WV7lLUwNL",
        "outputId": "bb96961c-bce3-4efa-ab44-ebffece91853",
        "colab": {
          "base_uri": "https://localhost:8080/"
        }
      },
      "execution_count": 126,
      "outputs": [
        {
          "output_type": "stream",
          "name": "stdout",
          "text": [
            "Looking in indexes: https://pypi.org/simple, https://us-python.pkg.dev/colab-wheels/public/simple/\n",
            "Requirement already satisfied: tweepy in /usr/local/lib/python3.7/dist-packages (3.10.0)\n",
            "Requirement already satisfied: requests[socks]>=2.11.1 in /usr/local/lib/python3.7/dist-packages (from tweepy) (2.23.0)\n",
            "Requirement already satisfied: six>=1.10.0 in /usr/local/lib/python3.7/dist-packages (from tweepy) (1.15.0)\n",
            "Requirement already satisfied: requests-oauthlib>=0.7.0 in /usr/local/lib/python3.7/dist-packages (from tweepy) (1.3.1)\n",
            "Requirement already satisfied: oauthlib>=3.0.0 in /usr/local/lib/python3.7/dist-packages (from requests-oauthlib>=0.7.0->tweepy) (3.2.1)\n",
            "Requirement already satisfied: idna<3,>=2.5 in /usr/local/lib/python3.7/dist-packages (from requests[socks]>=2.11.1->tweepy) (2.10)\n",
            "Requirement already satisfied: urllib3!=1.25.0,!=1.25.1,<1.26,>=1.21.1 in /usr/local/lib/python3.7/dist-packages (from requests[socks]>=2.11.1->tweepy) (1.24.3)\n",
            "Requirement already satisfied: certifi>=2017.4.17 in /usr/local/lib/python3.7/dist-packages (from requests[socks]>=2.11.1->tweepy) (2022.9.24)\n",
            "Requirement already satisfied: chardet<4,>=3.0.2 in /usr/local/lib/python3.7/dist-packages (from requests[socks]>=2.11.1->tweepy) (3.0.4)\n",
            "Requirement already satisfied: PySocks!=1.5.7,>=1.5.6 in /usr/local/lib/python3.7/dist-packages (from requests[socks]>=2.11.1->tweepy) (1.7.1)\n"
          ]
        }
      ]
    },
    {
      "cell_type": "code",
      "source": [
        "import json\n",
        "import csv\n",
        "import tweepy\n",
        "import re\n",
        "import yweather\n",
        "import pandas as pd"
      ],
      "metadata": {
        "id": "UPupiRQeFiyY"
      },
      "execution_count": 127,
      "outputs": []
    },
    {
      "cell_type": "code",
      "source": [
        "import os\n",
        "from google.cloud import language_v1\n",
        "\n",
        "credential_path = \"/content/drive/MyDrive/experitments/shiyuhuec601project2-602d607bd3fb.json\"\n",
        "os.environ['GOOGLE_APPLICATION_CREDENTIALS'] = credential_path\n",
        "# Instantiates a client\n",
        "client = language_v1.LanguageServiceClient()\n",
        "\n",
        "def sentimentScore(text):\n",
        "    document = language_v1.Document(content=text, type=language_v1.Document.Type.PLAIN_TEXT)\n",
        "    # Detects the sentiment of the text\n",
        "    sentiment = client.analyze_sentiment(request={'document': document}).document_sentiment\n",
        "    return sentiment.score\n",
        "\n",
        " "
      ],
      "metadata": {
        "id": "LrZJmwlpF2Ac"
      },
      "execution_count": 128,
      "outputs": []
    },
    {
      "cell_type": "code",
      "source": [
        "access_key = \"1576044567178186752-Dc3aW6fuQfr6mhi3tE2Yk5VQAVQKdG\"\n",
        "access_secret = \"wIVicLJz3cKtLoLocIqyYenoxKLPLWqhjBvJZbThkWRZx\"\n",
        "\n",
        "def get_all_tweets(screen_name):\n",
        "    \n",
        "    #Twitter only allows access to a users most recent 3240 tweets with this method\n",
        "    \n",
        "    #authorize twitter, initialize tweepy\n",
        "    auth = tweepy.OAuthHandler(consumer_key, consumer_secret)\n",
        "    auth.set_access_token(access_key, access_secret)\n",
        "    api = tweepy.API(auth)\n",
        "\n",
        "    #initialize a list to hold all the tweepy Tweets\n",
        "    alltweets = []    \n",
        "    \n",
        "    #make initial request for most recent tweets (200 is the maximum allowed count)\n",
        "    new_tweets = api.user_timeline(screen_name = screen_name,count=10)\n",
        "    \n",
        "    #save most recent tweets\n",
        "    alltweets.extend(new_tweets)\n",
        "    \n",
        "    #save the id of the oldest tweet less one\n",
        "    oldest = alltweets[-1].id - 1\n",
        "    \n",
        "    #keep grabbing tweets until there are no tweets left to grab\n",
        "    while len(new_tweets) > 0:\n",
        "        \n",
        "        #all subsiquent requests use the max_id param to prevent duplicates\n",
        "        new_tweets = api.user_timeline(screen_name = screen_name,count=10,max_id=oldest)\n",
        "        \n",
        "        #save most recent tweets\n",
        "        alltweets.extend(new_tweets)\n",
        "        \n",
        "        #update the id of the oldest tweet less one\n",
        "        oldest = alltweets[-1].id - 1\n",
        "        if(len(alltweets) > 15):\n",
        "            break\n",
        "        print( f\"...{len(alltweets)} tweets downloaded so far\") \n",
        "\n",
        "    #write tweet objects to JSON\n",
        "    file = open('tweet.json', 'w') \n",
        "    print( \"Writing tweet objects to JSON please wait...\")\n",
        "    for status in alltweets:\n",
        "        json.dump(status._json,file,sort_keys = True,indent = 4)\n",
        "    \n",
        "    #close the file\n",
        "    print( \"Done\")\n",
        "    file.close()\n",
        "\n",
        "def printTweet(screen_name):\n",
        "    auth = tweepy.OAuthHandler(consumer_key, consumer_secret)\n",
        "    auth.set_access_token(access_key, access_secret)\n",
        "    api = tweepy.API(auth)\n",
        "    public_tweets = api.user_timeline(screen_name = screen_name,count=10)\n",
        "    for tweet in public_tweets:\n",
        "        print(tweet.text)\n",
        "    # Get the User object for twitter...\n",
        "    user = api.get_user(screen_name = screen_name)\n",
        "    print(\"=\"*20)\n",
        "    print(f'User name: @{user.screen_name}')\n",
        "    print(f'Total followers: {user.followers_count}')\n",
        "    print('List of following accounts:')\n",
        "    for friend in user.friends():\n",
        "       print(friend.screen_name)\n",
        "    \n",
        "\n",
        "def searchTweets(q,count = 20):\n",
        "    auth = tweepy.OAuthHandler(consumer_key, consumer_secret)\n",
        "    auth.set_access_token(access_key, access_secret)\n",
        "    api = tweepy.API(auth)\n",
        "    searchResult = api.search(q = q,count = count)\n",
        "    for result in searchResult:\n",
        "        print(result.text)\n",
        "        #print(searchResult)\n",
        "\n",
        "\n",
        "    \n",
        "\n",
        "if __name__ == '__main__':\n",
        "    #pass in the username of the account you want to download\n",
        "    get_all_tweets(\"@NICKIMINAJ\")\n",
        "    printTweet(\"@NICKIMINAJ\")\n",
        "    searchTweets('SuperFreakyGirl')"
      ],
      "metadata": {
        "id": "Oe_vgDp8UCiC",
        "outputId": "817ada3a-153e-4496-bbc8-7858d7128784",
        "colab": {
          "base_uri": "https://localhost:8080/"
        }
      },
      "execution_count": 129,
      "outputs": [
        {
          "output_type": "stream",
          "name": "stdout",
          "text": [
            "Writing tweet objects to JSON please wait...\n",
            "Done\n",
            "@LadyLeshurr @BunsssMinaj 💪🏾♥️♥️♥️♥️😘\n",
            "They think I’m just saying thug &amp; gun(na). Most of them don’t eem know why I said YSL chi🤷🏽‍♀️ https://t.co/5ZsOqpa1MH\n",
            "Are you a lesbian babe? https://t.co/GRtU6eSTzz\n",
            "RT @lazarusinho: the teacher explaining the class rules at the beginning of the semester https://t.co/QbgApwx3Iq\n",
            "Ok charta https://t.co/kTIdEjXgEZ\n",
            "The BRITS RULE 🇬🇧🇬🇧🇬🇧♥️ https://t.co/Cssqx581ic\n",
            "When she got to the “bounce pon di cocky pon di beat” part 🔥🔥🔥🔥🔥🔥🔥🔥🔥🔥🔥🔥🔥🔥🔥🔥🔥🔥🔥🔥 https://t.co/RMw7ngVHxI\n",
            "Retweet if you woke up today. Retweet if you’re grateful to be alive. \n",
            "Retweet if you know that life is beautiful.… https://t.co/jMzfqKJSs4\n",
            "https://t.co/GYYzXJ6Y5P https://t.co/181KizPHiX\n",
            "@Onikasdraco You ain’t NEVERRRR LIE YET!!!!\n",
            "====================\n",
            "User name: @NICKIMINAJ\n",
            "Total followers: 26556784\n",
            "List of following accounts:\n",
            "jnthzs\n",
            "cocominajz\n",
            "N8RERUN\n",
            "lilbarbb2Grainz\n",
            "HoIIandMedia\n",
            "suchalittlegm\n",
            "FemmeRapLlVE\n",
            "davyygrande\n",
            "KingSeanSwae\n",
            "getchanelbags\n",
            "onikatimeline\n",
            "JazMinajHall\n",
            "Samuulii\n",
            "iamakbarvback\n",
            "nicolewanjiku7\n",
            "WeOutsideTho\n",
            "dococt_\n",
            "OnikaPwesh\n",
            "Gyalifreak\n",
            "MarajTingggz\n",
            "i’m forcing my bf to learn the #SuperFreakyGirl tiktok dance because i wanna make a video djskdjskdj that poor boy 😢 @NICKIMINAJ\n",
            "RT @NICKIMINAJ: #1 music video on us iTunes ALL GENRES #SuperFreakyGirl thx to you. \n",
            "\n",
            "HipHop iTunes \n",
            "1. #LIKKLEMISS #Fine9, \n",
            "2.Super Freaky…\n",
            "RT @Bm0rEj0eY: Radio is playing the #QueenMix 🔥🔥 #SuperFreakyGirl @NICKIMINAJ @KatieGotBandz @iamakbarvback @ThegirlJT @MaliibuMiitch @BIAB…\n",
            "RT @NICKIMINAJ: #1 music video on us iTunes ALL GENRES #SuperFreakyGirl thx to you. \n",
            "\n",
            "HipHop iTunes \n",
            "1. #LIKKLEMISS #Fine9, \n",
            "2.Super Freaky…\n",
            "RT @Bm0rEj0eY: Radio is playing the #QueenMix 🔥🔥 #SuperFreakyGirl @NICKIMINAJ @KatieGotBandz @iamakbarvback @ThegirlJT @MaliibuMiitch @BIAB…\n",
            "RT @NICKIMINAJ: #1 music video on us iTunes ALL GENRES #SuperFreakyGirl thx to you. \n",
            "\n",
            "HipHop iTunes \n",
            "1. #LIKKLEMISS #Fine9, \n",
            "2.Super Freaky…\n",
            "RT @BuzzingPop: #SuperFreakyGirl by @NickiMinaj holds at #1 on Hip-Hop global Spotify chart for an eighth consecutive week. \n",
            "\n",
            "It ties “Firs…\n",
            "RT @thenickiedit: Chun- Li 🖤\n",
            "📸: Grizz Lee \n",
            "Edit by Me 🤎 #SuperFreak #SuperFreakyGirl https://t.co/DVeqwBzEWJ\n",
            "RT @NICKIMINAJ: #1 music video on us iTunes ALL GENRES #SuperFreakyGirl thx to you. \n",
            "\n",
            "HipHop iTunes \n",
            "1. #LIKKLEMISS #Fine9, \n",
            "2.Super Freaky…\n",
            "RT @NICKIMINAJ: #1 music video on us iTunes ALL GENRES #SuperFreakyGirl thx to you. \n",
            "\n",
            "HipHop iTunes \n",
            "1. #LIKKLEMISS #Fine9, \n",
            "2.Super Freaky…\n",
            "RT @NICKIMINAJ: #1 music video on us iTunes ALL GENRES #SuperFreakyGirl thx to you. \n",
            "\n",
            "HipHop iTunes \n",
            "1. #LIKKLEMISS #Fine9, \n",
            "2.Super Freaky…\n",
            "RT @NICKIMINAJ: #1 music video on us iTunes ALL GENRES #SuperFreakyGirl thx to you. \n",
            "\n",
            "HipHop iTunes \n",
            "1. #LIKKLEMISS #Fine9, \n",
            "2.Super Freaky…\n",
            "RT @NICKIMINAJ: #1 music video on us iTunes ALL GENRES #SuperFreakyGirl thx to you. \n",
            "\n",
            "HipHop iTunes \n",
            "1. #LIKKLEMISS #Fine9, \n",
            "2.Super Freaky…\n",
            "RT @Trestarluvroman: #SuperFreakyGirl deserve the best head, this song was meant to get the party going 🤣🤣🤣\n",
            "@NICKIMINAJ The most streamed female rap song SINCE RELEASE!!!!! #SuperFreakyGirl https://t.co/6yuPrB44MH\n",
            "#SuperFreakyGirl deserve the best head, this song was meant to get the party going 🤣🤣🤣\n",
            "@NICKIMINAJ Been saying it since day one. Stay on ya pivot bitches 🫡 #QUEEN #FineNineREMIX #SuperFreakyGirl\n",
            "RT @celebslovenicki: .@khloekardashian posted a video of her and @KylieJenner at #FashionWeek on her story with @NICKIMINAJ’s #SuperFreakyG…\n",
            "RT @celebslovenicki: .@khloekardashian posted a video of her and @KylieJenner at #FashionWeek on her story with @NICKIMINAJ’s #SuperFreakyG…\n",
            "RT @thenickiedit: SUPER FREAKY GIRL 🍒 \n",
            "📸: @MarceloCantu \n",
            "Edit by Me 🍒  @NICKIMINAJ \n",
            "#SuperFreakyGirl #StreamSFG https://t.co/RENgE6NLMO\n"
          ]
        }
      ]
    },
    {
      "cell_type": "code",
      "source": [
        "pip install google.cloud"
      ],
      "metadata": {
        "id": "ST2TAEmocirn",
        "outputId": "8b598c96-ddd2-4a2c-a1cd-5914440fe7bf",
        "colab": {
          "base_uri": "https://localhost:8080/"
        }
      },
      "execution_count": 163,
      "outputs": [
        {
          "output_type": "stream",
          "name": "stdout",
          "text": [
            "Looking in indexes: https://pypi.org/simple, https://us-python.pkg.dev/colab-wheels/public/simple/\n",
            "Requirement already satisfied: google.cloud in /usr/local/lib/python3.7/dist-packages (0.34.0)\n"
          ]
        }
      ]
    },
    {
      "cell_type": "code",
      "source": [
        "import os\n",
        "import requests\n",
        "from google.cloud import language_v1\n",
        "import yaml\n",
        "import json"
      ],
      "metadata": {
        "id": "T-D3ZB8oW9UL"
      },
      "execution_count": 164,
      "outputs": []
    },
    {
      "cell_type": "code",
      "source": [
        "os.environ['GOOGLE_APPLICATION_CREDENTIALS'] = \"/content/drive/MyDrive/experitments/shiyuhuec601project2-602d607bd3fb.json\""
      ],
      "metadata": {
        "id": "7rSikao6cNN5"
      },
      "execution_count": 165,
      "outputs": []
    },
    {
      "cell_type": "code",
      "source": [
        "client = language_v1.LanguageServiceClient()\n"
      ],
      "metadata": {
        "id": "TMMzmyU7Xibo"
      },
      "execution_count": 166,
      "outputs": []
    },
    {
      "cell_type": "code",
      "source": [
        "pip install --upgrade google-cloud-translate"
      ],
      "metadata": {
        "id": "hHOhjlKOeURU",
        "outputId": "0b69047f-c54c-4c91-a3e3-87c04ed9ff72",
        "colab": {
          "base_uri": "https://localhost:8080/",
          "height": 645
        }
      },
      "execution_count": 168,
      "outputs": [
        {
          "output_type": "stream",
          "name": "stdout",
          "text": [
            "Looking in indexes: https://pypi.org/simple, https://us-python.pkg.dev/colab-wheels/public/simple/\n",
            "Requirement already satisfied: google-cloud-translate in /usr/local/lib/python3.7/dist-packages (1.5.0)\n",
            "Collecting google-cloud-translate\n",
            "  Downloading google_cloud_translate-3.8.3-py2.py3-none-any.whl (117 kB)\n",
            "\u001b[K     |████████████████████████████████| 117 kB 5.3 MB/s \n",
            "\u001b[?25hRequirement already satisfied: protobuf<5.0.0dev,>=3.20.2 in /usr/local/lib/python3.7/dist-packages (from google-cloud-translate) (4.21.7)\n",
            "Requirement already satisfied: google-cloud-core<3.0.0dev,>=1.3.0 in /usr/local/lib/python3.7/dist-packages (from google-cloud-translate) (2.3.2)\n",
            "Requirement already satisfied: proto-plus<2.0.0dev,>=1.22.0 in /usr/local/lib/python3.7/dist-packages (from google-cloud-translate) (1.22.1)\n",
            "Requirement already satisfied: google-api-core[grpc]!=2.0.*,!=2.1.*,!=2.2.*,!=2.3.*,!=2.4.*,!=2.5.*,!=2.6.*,!=2.7.*,<3.0.0dev,>=1.32.0 in /usr/local/lib/python3.7/dist-packages (from google-cloud-translate) (2.10.1)\n",
            "Requirement already satisfied: google-auth<3.0dev,>=1.25.0 in /usr/local/lib/python3.7/dist-packages (from google-api-core[grpc]!=2.0.*,!=2.1.*,!=2.2.*,!=2.3.*,!=2.4.*,!=2.5.*,!=2.6.*,!=2.7.*,<3.0.0dev,>=1.32.0->google-cloud-translate) (1.35.0)\n",
            "Requirement already satisfied: requests<3.0.0dev,>=2.18.0 in /usr/local/lib/python3.7/dist-packages (from google-api-core[grpc]!=2.0.*,!=2.1.*,!=2.2.*,!=2.3.*,!=2.4.*,!=2.5.*,!=2.6.*,!=2.7.*,<3.0.0dev,>=1.32.0->google-cloud-translate) (2.23.0)\n",
            "Requirement already satisfied: googleapis-common-protos<2.0dev,>=1.56.2 in /usr/local/lib/python3.7/dist-packages (from google-api-core[grpc]!=2.0.*,!=2.1.*,!=2.2.*,!=2.3.*,!=2.4.*,!=2.5.*,!=2.6.*,!=2.7.*,<3.0.0dev,>=1.32.0->google-cloud-translate) (1.56.4)\n",
            "Requirement already satisfied: grpcio-status<2.0dev,>=1.33.2 in /usr/local/lib/python3.7/dist-packages (from google-api-core[grpc]!=2.0.*,!=2.1.*,!=2.2.*,!=2.3.*,!=2.4.*,!=2.5.*,!=2.6.*,!=2.7.*,<3.0.0dev,>=1.32.0->google-cloud-translate) (1.49.1)\n",
            "Requirement already satisfied: grpcio<2.0dev,>=1.33.2 in /usr/local/lib/python3.7/dist-packages (from google-api-core[grpc]!=2.0.*,!=2.1.*,!=2.2.*,!=2.3.*,!=2.4.*,!=2.5.*,!=2.6.*,!=2.7.*,<3.0.0dev,>=1.32.0->google-cloud-translate) (1.49.1)\n",
            "Requirement already satisfied: cachetools<5.0,>=2.0.0 in /usr/local/lib/python3.7/dist-packages (from google-auth<3.0dev,>=1.25.0->google-api-core[grpc]!=2.0.*,!=2.1.*,!=2.2.*,!=2.3.*,!=2.4.*,!=2.5.*,!=2.6.*,!=2.7.*,<3.0.0dev,>=1.32.0->google-cloud-translate) (4.2.4)\n",
            "Requirement already satisfied: setuptools>=40.3.0 in /usr/local/lib/python3.7/dist-packages (from google-auth<3.0dev,>=1.25.0->google-api-core[grpc]!=2.0.*,!=2.1.*,!=2.2.*,!=2.3.*,!=2.4.*,!=2.5.*,!=2.6.*,!=2.7.*,<3.0.0dev,>=1.32.0->google-cloud-translate) (57.4.0)\n",
            "Requirement already satisfied: six>=1.9.0 in /usr/local/lib/python3.7/dist-packages (from google-auth<3.0dev,>=1.25.0->google-api-core[grpc]!=2.0.*,!=2.1.*,!=2.2.*,!=2.3.*,!=2.4.*,!=2.5.*,!=2.6.*,!=2.7.*,<3.0.0dev,>=1.32.0->google-cloud-translate) (1.15.0)\n",
            "Requirement already satisfied: pyasn1-modules>=0.2.1 in /usr/local/lib/python3.7/dist-packages (from google-auth<3.0dev,>=1.25.0->google-api-core[grpc]!=2.0.*,!=2.1.*,!=2.2.*,!=2.3.*,!=2.4.*,!=2.5.*,!=2.6.*,!=2.7.*,<3.0.0dev,>=1.32.0->google-cloud-translate) (0.2.8)\n",
            "Requirement already satisfied: rsa<5,>=3.1.4 in /usr/local/lib/python3.7/dist-packages (from google-auth<3.0dev,>=1.25.0->google-api-core[grpc]!=2.0.*,!=2.1.*,!=2.2.*,!=2.3.*,!=2.4.*,!=2.5.*,!=2.6.*,!=2.7.*,<3.0.0dev,>=1.32.0->google-cloud-translate) (4.9)\n",
            "Requirement already satisfied: pyasn1<0.5.0,>=0.4.6 in /usr/local/lib/python3.7/dist-packages (from pyasn1-modules>=0.2.1->google-auth<3.0dev,>=1.25.0->google-api-core[grpc]!=2.0.*,!=2.1.*,!=2.2.*,!=2.3.*,!=2.4.*,!=2.5.*,!=2.6.*,!=2.7.*,<3.0.0dev,>=1.32.0->google-cloud-translate) (0.4.8)\n",
            "Requirement already satisfied: certifi>=2017.4.17 in /usr/local/lib/python3.7/dist-packages (from requests<3.0.0dev,>=2.18.0->google-api-core[grpc]!=2.0.*,!=2.1.*,!=2.2.*,!=2.3.*,!=2.4.*,!=2.5.*,!=2.6.*,!=2.7.*,<3.0.0dev,>=1.32.0->google-cloud-translate) (2022.9.24)\n",
            "Requirement already satisfied: urllib3!=1.25.0,!=1.25.1,<1.26,>=1.21.1 in /usr/local/lib/python3.7/dist-packages (from requests<3.0.0dev,>=2.18.0->google-api-core[grpc]!=2.0.*,!=2.1.*,!=2.2.*,!=2.3.*,!=2.4.*,!=2.5.*,!=2.6.*,!=2.7.*,<3.0.0dev,>=1.32.0->google-cloud-translate) (1.24.3)\n",
            "Requirement already satisfied: chardet<4,>=3.0.2 in /usr/local/lib/python3.7/dist-packages (from requests<3.0.0dev,>=2.18.0->google-api-core[grpc]!=2.0.*,!=2.1.*,!=2.2.*,!=2.3.*,!=2.4.*,!=2.5.*,!=2.6.*,!=2.7.*,<3.0.0dev,>=1.32.0->google-cloud-translate) (3.0.4)\n",
            "Requirement already satisfied: idna<3,>=2.5 in /usr/local/lib/python3.7/dist-packages (from requests<3.0.0dev,>=2.18.0->google-api-core[grpc]!=2.0.*,!=2.1.*,!=2.2.*,!=2.3.*,!=2.4.*,!=2.5.*,!=2.6.*,!=2.7.*,<3.0.0dev,>=1.32.0->google-cloud-translate) (2.10)\n",
            "Installing collected packages: google-cloud-translate\n",
            "  Attempting uninstall: google-cloud-translate\n",
            "    Found existing installation: google-cloud-translate 1.5.0\n",
            "    Uninstalling google-cloud-translate-1.5.0:\n",
            "      Successfully uninstalled google-cloud-translate-1.5.0\n",
            "Successfully installed google-cloud-translate-3.8.3\n"
          ]
        },
        {
          "output_type": "display_data",
          "data": {
            "application/vnd.colab-display-data+json": {
              "pip_warning": {
                "packages": [
                  "google"
                ]
              }
            }
          },
          "metadata": {}
        }
      ]
    },
    {
      "cell_type": "code",
      "source": [
        "pip install google-cloud-language==2.4.1\n"
      ],
      "metadata": {
        "id": "80wB26L4eVhq",
        "outputId": "70f209c9-682f-4ed8-f12d-1db342f68743",
        "colab": {
          "base_uri": "https://localhost:8080/",
          "height": 610
        }
      },
      "execution_count": 180,
      "outputs": [
        {
          "output_type": "stream",
          "name": "stdout",
          "text": [
            "Looking in indexes: https://pypi.org/simple, https://us-python.pkg.dev/colab-wheels/public/simple/\n",
            "Collecting google-cloud-language==2.4.1\n",
            "  Downloading google_cloud_language-2.4.1-py2.py3-none-any.whl (82 kB)\n",
            "\u001b[K     |████████████████████████████████| 82 kB 127 kB/s \n",
            "\u001b[?25hRequirement already satisfied: google-api-core[grpc]!=2.0.*,!=2.1.*,!=2.2.*,!=2.3.0,<3.0.0dev,>=1.31.5 in /usr/local/lib/python3.7/dist-packages (from google-cloud-language==2.4.1) (2.10.1)\n",
            "Requirement already satisfied: proto-plus>=1.15.0 in /usr/local/lib/python3.7/dist-packages (from google-cloud-language==2.4.1) (1.22.1)\n",
            "Requirement already satisfied: googleapis-common-protos<2.0dev,>=1.56.2 in /usr/local/lib/python3.7/dist-packages (from google-api-core[grpc]!=2.0.*,!=2.1.*,!=2.2.*,!=2.3.0,<3.0.0dev,>=1.31.5->google-cloud-language==2.4.1) (1.56.4)\n",
            "Requirement already satisfied: requests<3.0.0dev,>=2.18.0 in /usr/local/lib/python3.7/dist-packages (from google-api-core[grpc]!=2.0.*,!=2.1.*,!=2.2.*,!=2.3.0,<3.0.0dev,>=1.31.5->google-cloud-language==2.4.1) (2.23.0)\n",
            "Requirement already satisfied: google-auth<3.0dev,>=1.25.0 in /usr/local/lib/python3.7/dist-packages (from google-api-core[grpc]!=2.0.*,!=2.1.*,!=2.2.*,!=2.3.0,<3.0.0dev,>=1.31.5->google-cloud-language==2.4.1) (1.35.0)\n",
            "Requirement already satisfied: protobuf<5.0.0dev,>=3.20.1 in /usr/local/lib/python3.7/dist-packages (from google-api-core[grpc]!=2.0.*,!=2.1.*,!=2.2.*,!=2.3.0,<3.0.0dev,>=1.31.5->google-cloud-language==2.4.1) (4.21.7)\n",
            "Requirement already satisfied: grpcio<2.0dev,>=1.33.2 in /usr/local/lib/python3.7/dist-packages (from google-api-core[grpc]!=2.0.*,!=2.1.*,!=2.2.*,!=2.3.0,<3.0.0dev,>=1.31.5->google-cloud-language==2.4.1) (1.49.1)\n",
            "Requirement already satisfied: grpcio-status<2.0dev,>=1.33.2 in /usr/local/lib/python3.7/dist-packages (from google-api-core[grpc]!=2.0.*,!=2.1.*,!=2.2.*,!=2.3.0,<3.0.0dev,>=1.31.5->google-cloud-language==2.4.1) (1.49.1)\n",
            "Requirement already satisfied: rsa<5,>=3.1.4 in /usr/local/lib/python3.7/dist-packages (from google-auth<3.0dev,>=1.25.0->google-api-core[grpc]!=2.0.*,!=2.1.*,!=2.2.*,!=2.3.0,<3.0.0dev,>=1.31.5->google-cloud-language==2.4.1) (4.9)\n",
            "Requirement already satisfied: cachetools<5.0,>=2.0.0 in /usr/local/lib/python3.7/dist-packages (from google-auth<3.0dev,>=1.25.0->google-api-core[grpc]!=2.0.*,!=2.1.*,!=2.2.*,!=2.3.0,<3.0.0dev,>=1.31.5->google-cloud-language==2.4.1) (4.2.4)\n",
            "Requirement already satisfied: six>=1.9.0 in /usr/local/lib/python3.7/dist-packages (from google-auth<3.0dev,>=1.25.0->google-api-core[grpc]!=2.0.*,!=2.1.*,!=2.2.*,!=2.3.0,<3.0.0dev,>=1.31.5->google-cloud-language==2.4.1) (1.15.0)\n",
            "Requirement already satisfied: pyasn1-modules>=0.2.1 in /usr/local/lib/python3.7/dist-packages (from google-auth<3.0dev,>=1.25.0->google-api-core[grpc]!=2.0.*,!=2.1.*,!=2.2.*,!=2.3.0,<3.0.0dev,>=1.31.5->google-cloud-language==2.4.1) (0.2.8)\n",
            "Requirement already satisfied: setuptools>=40.3.0 in /usr/local/lib/python3.7/dist-packages (from google-auth<3.0dev,>=1.25.0->google-api-core[grpc]!=2.0.*,!=2.1.*,!=2.2.*,!=2.3.0,<3.0.0dev,>=1.31.5->google-cloud-language==2.4.1) (57.4.0)\n",
            "Requirement already satisfied: pyasn1<0.5.0,>=0.4.6 in /usr/local/lib/python3.7/dist-packages (from pyasn1-modules>=0.2.1->google-auth<3.0dev,>=1.25.0->google-api-core[grpc]!=2.0.*,!=2.1.*,!=2.2.*,!=2.3.0,<3.0.0dev,>=1.31.5->google-cloud-language==2.4.1) (0.4.8)\n",
            "Requirement already satisfied: chardet<4,>=3.0.2 in /usr/local/lib/python3.7/dist-packages (from requests<3.0.0dev,>=2.18.0->google-api-core[grpc]!=2.0.*,!=2.1.*,!=2.2.*,!=2.3.0,<3.0.0dev,>=1.31.5->google-cloud-language==2.4.1) (3.0.4)\n",
            "Requirement already satisfied: idna<3,>=2.5 in /usr/local/lib/python3.7/dist-packages (from requests<3.0.0dev,>=2.18.0->google-api-core[grpc]!=2.0.*,!=2.1.*,!=2.2.*,!=2.3.0,<3.0.0dev,>=1.31.5->google-cloud-language==2.4.1) (2.10)\n",
            "Requirement already satisfied: certifi>=2017.4.17 in /usr/local/lib/python3.7/dist-packages (from requests<3.0.0dev,>=2.18.0->google-api-core[grpc]!=2.0.*,!=2.1.*,!=2.2.*,!=2.3.0,<3.0.0dev,>=1.31.5->google-cloud-language==2.4.1) (2022.9.24)\n",
            "Requirement already satisfied: urllib3!=1.25.0,!=1.25.1,<1.26,>=1.21.1 in /usr/local/lib/python3.7/dist-packages (from requests<3.0.0dev,>=2.18.0->google-api-core[grpc]!=2.0.*,!=2.1.*,!=2.2.*,!=2.3.0,<3.0.0dev,>=1.31.5->google-cloud-language==2.4.1) (1.24.3)\n",
            "Installing collected packages: google-cloud-language\n",
            "  Attempting uninstall: google-cloud-language\n",
            "    Found existing installation: google-cloud-language 1.2.0\n",
            "    Uninstalling google-cloud-language-1.2.0:\n",
            "      Successfully uninstalled google-cloud-language-1.2.0\n",
            "Successfully installed google-cloud-language-2.4.1\n"
          ]
        },
        {
          "output_type": "display_data",
          "data": {
            "application/vnd.colab-display-data+json": {
              "pip_warning": {
                "packages": [
                  "google"
                ]
              }
            }
          },
          "metadata": {}
        }
      ]
    },
    {
      "cell_type": "code",
      "source": [
        "from google.cloud import language_v1"
      ],
      "metadata": {
        "id": "X8DabO-LfoIw"
      },
      "execution_count": 183,
      "outputs": []
    },
    {
      "cell_type": "code",
      "source": [
        "!pip install --upgrade google-cloud-language"
      ],
      "metadata": {
        "id": "CZJ4d3CFf3E_",
        "outputId": "8cab437b-45f5-47eb-9371-8e631df1b772",
        "colab": {
          "base_uri": "https://localhost:8080/",
          "height": 627
        }
      },
      "execution_count": 186,
      "outputs": [
        {
          "output_type": "stream",
          "name": "stdout",
          "text": [
            "Looking in indexes: https://pypi.org/simple, https://us-python.pkg.dev/colab-wheels/public/simple/\n",
            "Requirement already satisfied: google-cloud-language in /usr/local/lib/python3.7/dist-packages (2.4.1)\n",
            "Collecting google-cloud-language\n",
            "  Downloading google_cloud_language-2.6.0-py2.py3-none-any.whl (84 kB)\n",
            "\u001b[K     |████████████████████████████████| 84 kB 2.0 MB/s \n",
            "\u001b[?25hRequirement already satisfied: google-api-core[grpc]!=2.0.*,!=2.1.*,!=2.2.*,!=2.3.*,!=2.4.*,!=2.5.*,!=2.6.*,!=2.7.*,<3.0.0dev,>=1.32.0 in /usr/local/lib/python3.7/dist-packages (from google-cloud-language) (2.10.1)\n",
            "Requirement already satisfied: proto-plus<2.0.0dev,>=1.22.0 in /usr/local/lib/python3.7/dist-packages (from google-cloud-language) (1.22.1)\n",
            "Requirement already satisfied: protobuf<5.0.0dev,>=3.20.2 in /usr/local/lib/python3.7/dist-packages (from google-cloud-language) (4.21.7)\n",
            "Requirement already satisfied: google-auth<3.0dev,>=1.25.0 in /usr/local/lib/python3.7/dist-packages (from google-api-core[grpc]!=2.0.*,!=2.1.*,!=2.2.*,!=2.3.*,!=2.4.*,!=2.5.*,!=2.6.*,!=2.7.*,<3.0.0dev,>=1.32.0->google-cloud-language) (1.35.0)\n",
            "Requirement already satisfied: requests<3.0.0dev,>=2.18.0 in /usr/local/lib/python3.7/dist-packages (from google-api-core[grpc]!=2.0.*,!=2.1.*,!=2.2.*,!=2.3.*,!=2.4.*,!=2.5.*,!=2.6.*,!=2.7.*,<3.0.0dev,>=1.32.0->google-cloud-language) (2.23.0)\n",
            "Requirement already satisfied: googleapis-common-protos<2.0dev,>=1.56.2 in /usr/local/lib/python3.7/dist-packages (from google-api-core[grpc]!=2.0.*,!=2.1.*,!=2.2.*,!=2.3.*,!=2.4.*,!=2.5.*,!=2.6.*,!=2.7.*,<3.0.0dev,>=1.32.0->google-cloud-language) (1.56.4)\n",
            "Requirement already satisfied: grpcio-status<2.0dev,>=1.33.2 in /usr/local/lib/python3.7/dist-packages (from google-api-core[grpc]!=2.0.*,!=2.1.*,!=2.2.*,!=2.3.*,!=2.4.*,!=2.5.*,!=2.6.*,!=2.7.*,<3.0.0dev,>=1.32.0->google-cloud-language) (1.49.1)\n",
            "Requirement already satisfied: grpcio<2.0dev,>=1.33.2 in /usr/local/lib/python3.7/dist-packages (from google-api-core[grpc]!=2.0.*,!=2.1.*,!=2.2.*,!=2.3.*,!=2.4.*,!=2.5.*,!=2.6.*,!=2.7.*,<3.0.0dev,>=1.32.0->google-cloud-language) (1.49.1)\n",
            "Requirement already satisfied: six>=1.9.0 in /usr/local/lib/python3.7/dist-packages (from google-auth<3.0dev,>=1.25.0->google-api-core[grpc]!=2.0.*,!=2.1.*,!=2.2.*,!=2.3.*,!=2.4.*,!=2.5.*,!=2.6.*,!=2.7.*,<3.0.0dev,>=1.32.0->google-cloud-language) (1.15.0)\n",
            "Requirement already satisfied: rsa<5,>=3.1.4 in /usr/local/lib/python3.7/dist-packages (from google-auth<3.0dev,>=1.25.0->google-api-core[grpc]!=2.0.*,!=2.1.*,!=2.2.*,!=2.3.*,!=2.4.*,!=2.5.*,!=2.6.*,!=2.7.*,<3.0.0dev,>=1.32.0->google-cloud-language) (4.9)\n",
            "Requirement already satisfied: cachetools<5.0,>=2.0.0 in /usr/local/lib/python3.7/dist-packages (from google-auth<3.0dev,>=1.25.0->google-api-core[grpc]!=2.0.*,!=2.1.*,!=2.2.*,!=2.3.*,!=2.4.*,!=2.5.*,!=2.6.*,!=2.7.*,<3.0.0dev,>=1.32.0->google-cloud-language) (4.2.4)\n",
            "Requirement already satisfied: setuptools>=40.3.0 in /usr/local/lib/python3.7/dist-packages (from google-auth<3.0dev,>=1.25.0->google-api-core[grpc]!=2.0.*,!=2.1.*,!=2.2.*,!=2.3.*,!=2.4.*,!=2.5.*,!=2.6.*,!=2.7.*,<3.0.0dev,>=1.32.0->google-cloud-language) (57.4.0)\n",
            "Requirement already satisfied: pyasn1-modules>=0.2.1 in /usr/local/lib/python3.7/dist-packages (from google-auth<3.0dev,>=1.25.0->google-api-core[grpc]!=2.0.*,!=2.1.*,!=2.2.*,!=2.3.*,!=2.4.*,!=2.5.*,!=2.6.*,!=2.7.*,<3.0.0dev,>=1.32.0->google-cloud-language) (0.2.8)\n",
            "Requirement already satisfied: pyasn1<0.5.0,>=0.4.6 in /usr/local/lib/python3.7/dist-packages (from pyasn1-modules>=0.2.1->google-auth<3.0dev,>=1.25.0->google-api-core[grpc]!=2.0.*,!=2.1.*,!=2.2.*,!=2.3.*,!=2.4.*,!=2.5.*,!=2.6.*,!=2.7.*,<3.0.0dev,>=1.32.0->google-cloud-language) (0.4.8)\n",
            "Requirement already satisfied: urllib3!=1.25.0,!=1.25.1,<1.26,>=1.21.1 in /usr/local/lib/python3.7/dist-packages (from requests<3.0.0dev,>=2.18.0->google-api-core[grpc]!=2.0.*,!=2.1.*,!=2.2.*,!=2.3.*,!=2.4.*,!=2.5.*,!=2.6.*,!=2.7.*,<3.0.0dev,>=1.32.0->google-cloud-language) (1.24.3)\n",
            "Requirement already satisfied: certifi>=2017.4.17 in /usr/local/lib/python3.7/dist-packages (from requests<3.0.0dev,>=2.18.0->google-api-core[grpc]!=2.0.*,!=2.1.*,!=2.2.*,!=2.3.*,!=2.4.*,!=2.5.*,!=2.6.*,!=2.7.*,<3.0.0dev,>=1.32.0->google-cloud-language) (2022.9.24)\n",
            "Requirement already satisfied: idna<3,>=2.5 in /usr/local/lib/python3.7/dist-packages (from requests<3.0.0dev,>=2.18.0->google-api-core[grpc]!=2.0.*,!=2.1.*,!=2.2.*,!=2.3.*,!=2.4.*,!=2.5.*,!=2.6.*,!=2.7.*,<3.0.0dev,>=1.32.0->google-cloud-language) (2.10)\n",
            "Requirement already satisfied: chardet<4,>=3.0.2 in /usr/local/lib/python3.7/dist-packages (from requests<3.0.0dev,>=2.18.0->google-api-core[grpc]!=2.0.*,!=2.1.*,!=2.2.*,!=2.3.*,!=2.4.*,!=2.5.*,!=2.6.*,!=2.7.*,<3.0.0dev,>=1.32.0->google-cloud-language) (3.0.4)\n",
            "Installing collected packages: google-cloud-language\n",
            "  Attempting uninstall: google-cloud-language\n",
            "    Found existing installation: google-cloud-language 2.4.1\n",
            "    Uninstalling google-cloud-language-2.4.1:\n",
            "      Successfully uninstalled google-cloud-language-2.4.1\n",
            "Successfully installed google-cloud-language-2.6.0\n"
          ]
        },
        {
          "output_type": "display_data",
          "data": {
            "application/vnd.colab-display-data+json": {
              "pip_warning": {
                "packages": [
                  "google"
                ]
              }
            }
          },
          "metadata": {}
        }
      ]
    },
    {
      "cell_type": "code",
      "source": [
        "from google.colab import files\n",
        "uploaded = files.upload()"
      ],
      "metadata": {
        "id": "Exnq4uSbfhNX",
        "outputId": "f136a86e-041d-4a47-d1be-2782fc7ebc9f",
        "colab": {
          "base_uri": "https://localhost:8080/",
          "height": 73
        }
      },
      "execution_count": 188,
      "outputs": [
        {
          "output_type": "display_data",
          "data": {
            "text/plain": [
              "<IPython.core.display.HTML object>"
            ],
            "text/html": [
              "\n",
              "     <input type=\"file\" id=\"files-707a3d0c-73d6-4097-a3ff-5e38f84cf1b7\" name=\"files[]\" multiple disabled\n",
              "        style=\"border:none\" />\n",
              "     <output id=\"result-707a3d0c-73d6-4097-a3ff-5e38f84cf1b7\">\n",
              "      Upload widget is only available when the cell has been executed in the\n",
              "      current browser session. Please rerun this cell to enable.\n",
              "      </output>\n",
              "      <script>// Copyright 2017 Google LLC\n",
              "//\n",
              "// Licensed under the Apache License, Version 2.0 (the \"License\");\n",
              "// you may not use this file except in compliance with the License.\n",
              "// You may obtain a copy of the License at\n",
              "//\n",
              "//      http://www.apache.org/licenses/LICENSE-2.0\n",
              "//\n",
              "// Unless required by applicable law or agreed to in writing, software\n",
              "// distributed under the License is distributed on an \"AS IS\" BASIS,\n",
              "// WITHOUT WARRANTIES OR CONDITIONS OF ANY KIND, either express or implied.\n",
              "// See the License for the specific language governing permissions and\n",
              "// limitations under the License.\n",
              "\n",
              "/**\n",
              " * @fileoverview Helpers for google.colab Python module.\n",
              " */\n",
              "(function(scope) {\n",
              "function span(text, styleAttributes = {}) {\n",
              "  const element = document.createElement('span');\n",
              "  element.textContent = text;\n",
              "  for (const key of Object.keys(styleAttributes)) {\n",
              "    element.style[key] = styleAttributes[key];\n",
              "  }\n",
              "  return element;\n",
              "}\n",
              "\n",
              "// Max number of bytes which will be uploaded at a time.\n",
              "const MAX_PAYLOAD_SIZE = 100 * 1024;\n",
              "\n",
              "function _uploadFiles(inputId, outputId) {\n",
              "  const steps = uploadFilesStep(inputId, outputId);\n",
              "  const outputElement = document.getElementById(outputId);\n",
              "  // Cache steps on the outputElement to make it available for the next call\n",
              "  // to uploadFilesContinue from Python.\n",
              "  outputElement.steps = steps;\n",
              "\n",
              "  return _uploadFilesContinue(outputId);\n",
              "}\n",
              "\n",
              "// This is roughly an async generator (not supported in the browser yet),\n",
              "// where there are multiple asynchronous steps and the Python side is going\n",
              "// to poll for completion of each step.\n",
              "// This uses a Promise to block the python side on completion of each step,\n",
              "// then passes the result of the previous step as the input to the next step.\n",
              "function _uploadFilesContinue(outputId) {\n",
              "  const outputElement = document.getElementById(outputId);\n",
              "  const steps = outputElement.steps;\n",
              "\n",
              "  const next = steps.next(outputElement.lastPromiseValue);\n",
              "  return Promise.resolve(next.value.promise).then((value) => {\n",
              "    // Cache the last promise value to make it available to the next\n",
              "    // step of the generator.\n",
              "    outputElement.lastPromiseValue = value;\n",
              "    return next.value.response;\n",
              "  });\n",
              "}\n",
              "\n",
              "/**\n",
              " * Generator function which is called between each async step of the upload\n",
              " * process.\n",
              " * @param {string} inputId Element ID of the input file picker element.\n",
              " * @param {string} outputId Element ID of the output display.\n",
              " * @return {!Iterable<!Object>} Iterable of next steps.\n",
              " */\n",
              "function* uploadFilesStep(inputId, outputId) {\n",
              "  const inputElement = document.getElementById(inputId);\n",
              "  inputElement.disabled = false;\n",
              "\n",
              "  const outputElement = document.getElementById(outputId);\n",
              "  outputElement.innerHTML = '';\n",
              "\n",
              "  const pickedPromise = new Promise((resolve) => {\n",
              "    inputElement.addEventListener('change', (e) => {\n",
              "      resolve(e.target.files);\n",
              "    });\n",
              "  });\n",
              "\n",
              "  const cancel = document.createElement('button');\n",
              "  inputElement.parentElement.appendChild(cancel);\n",
              "  cancel.textContent = 'Cancel upload';\n",
              "  const cancelPromise = new Promise((resolve) => {\n",
              "    cancel.onclick = () => {\n",
              "      resolve(null);\n",
              "    };\n",
              "  });\n",
              "\n",
              "  // Wait for the user to pick the files.\n",
              "  const files = yield {\n",
              "    promise: Promise.race([pickedPromise, cancelPromise]),\n",
              "    response: {\n",
              "      action: 'starting',\n",
              "    }\n",
              "  };\n",
              "\n",
              "  cancel.remove();\n",
              "\n",
              "  // Disable the input element since further picks are not allowed.\n",
              "  inputElement.disabled = true;\n",
              "\n",
              "  if (!files) {\n",
              "    return {\n",
              "      response: {\n",
              "        action: 'complete',\n",
              "      }\n",
              "    };\n",
              "  }\n",
              "\n",
              "  for (const file of files) {\n",
              "    const li = document.createElement('li');\n",
              "    li.append(span(file.name, {fontWeight: 'bold'}));\n",
              "    li.append(span(\n",
              "        `(${file.type || 'n/a'}) - ${file.size} bytes, ` +\n",
              "        `last modified: ${\n",
              "            file.lastModifiedDate ? file.lastModifiedDate.toLocaleDateString() :\n",
              "                                    'n/a'} - `));\n",
              "    const percent = span('0% done');\n",
              "    li.appendChild(percent);\n",
              "\n",
              "    outputElement.appendChild(li);\n",
              "\n",
              "    const fileDataPromise = new Promise((resolve) => {\n",
              "      const reader = new FileReader();\n",
              "      reader.onload = (e) => {\n",
              "        resolve(e.target.result);\n",
              "      };\n",
              "      reader.readAsArrayBuffer(file);\n",
              "    });\n",
              "    // Wait for the data to be ready.\n",
              "    let fileData = yield {\n",
              "      promise: fileDataPromise,\n",
              "      response: {\n",
              "        action: 'continue',\n",
              "      }\n",
              "    };\n",
              "\n",
              "    // Use a chunked sending to avoid message size limits. See b/62115660.\n",
              "    let position = 0;\n",
              "    do {\n",
              "      const length = Math.min(fileData.byteLength - position, MAX_PAYLOAD_SIZE);\n",
              "      const chunk = new Uint8Array(fileData, position, length);\n",
              "      position += length;\n",
              "\n",
              "      const base64 = btoa(String.fromCharCode.apply(null, chunk));\n",
              "      yield {\n",
              "        response: {\n",
              "          action: 'append',\n",
              "          file: file.name,\n",
              "          data: base64,\n",
              "        },\n",
              "      };\n",
              "\n",
              "      let percentDone = fileData.byteLength === 0 ?\n",
              "          100 :\n",
              "          Math.round((position / fileData.byteLength) * 100);\n",
              "      percent.textContent = `${percentDone}% done`;\n",
              "\n",
              "    } while (position < fileData.byteLength);\n",
              "  }\n",
              "\n",
              "  // All done.\n",
              "  yield {\n",
              "    response: {\n",
              "      action: 'complete',\n",
              "    }\n",
              "  };\n",
              "}\n",
              "\n",
              "scope.google = scope.google || {};\n",
              "scope.google.colab = scope.google.colab || {};\n",
              "scope.google.colab._files = {\n",
              "  _uploadFiles,\n",
              "  _uploadFilesContinue,\n",
              "};\n",
              "})(self);\n",
              "</script> "
            ]
          },
          "metadata": {}
        },
        {
          "output_type": "stream",
          "name": "stdout",
          "text": [
            "Saving shiyuhuec601project2-602d607bd3fb.json to shiyuhuec601project2-602d607bd3fb.json\n"
          ]
        }
      ]
    },
    {
      "cell_type": "code",
      "source": [
        "from google.oauth2 import service_account\n",
        "from google.cloud import language_v1\n",
        "\n",
        "client = language_v1.LanguageServiceClient.from_service_account_json(\"/content/drive/MyDrive/experitments/shiyuhuec601project2-602d607bd3fb.json\")"
      ],
      "metadata": {
        "id": "zlQc8W7cl3lQ"
      },
      "execution_count": 190,
      "outputs": []
    },
    {
      "cell_type": "code",
      "source": [
        "text_content = 'Grapes are good. Bananas are bad.'\n",
        "type_ = language_v1.types.Document.Type.PLAIN_TEXT\n",
        "language = \"en\"\n",
        "document = {\"content\": text_content, \"type\": type_, \"language\": language}\n",
        "encoding_type = \"UTF8\"\n",
        "response = client.analyze_entity_sentiment( document = document, encoding_type = encoding_type )\n",
        "response"
      ],
      "metadata": {
        "id": "CQDAaT_qjjd9",
        "outputId": "c501d8d8-26de-452b-b418-863b53147676",
        "colab": {
          "base_uri": "https://localhost:8080/"
        }
      },
      "execution_count": 196,
      "outputs": [
        {
          "output_type": "execute_result",
          "data": {
            "text/plain": [
              "entities {\n",
              "  name: \"Grapes\"\n",
              "  type: OTHER\n",
              "  salience: 0.8335162997245789\n",
              "  mentions {\n",
              "    text {\n",
              "      content: \"Grapes\"\n",
              "    }\n",
              "    type: COMMON\n",
              "    sentiment {\n",
              "      magnitude: 0.800000011920929\n",
              "      score: 0.800000011920929\n",
              "    }\n",
              "  }\n",
              "  sentiment {\n",
              "    magnitude: 0.800000011920929\n",
              "    score: 0.800000011920929\n",
              "  }\n",
              "}\n",
              "entities {\n",
              "  name: \"Bananas\"\n",
              "  type: OTHER\n",
              "  salience: 0.16648370027542114\n",
              "  mentions {\n",
              "    text {\n",
              "      content: \"Bananas\"\n",
              "      begin_offset: 17\n",
              "    }\n",
              "    type: COMMON\n",
              "    sentiment {\n",
              "      magnitude: 0.699999988079071\n",
              "      score: -0.699999988079071\n",
              "    }\n",
              "  }\n",
              "  sentiment {\n",
              "    magnitude: 0.699999988079071\n",
              "    score: -0.699999988079071\n",
              "  }\n",
              "}\n",
              "language: \"en\""
            ]
          },
          "metadata": {},
          "execution_count": 196
        }
      ]
    },
    {
      "cell_type": "code",
      "source": [],
      "metadata": {
        "id": "VufPndFAkk-2"
      },
      "execution_count": null,
      "outputs": []
    }
  ]
}